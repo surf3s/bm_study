{
 "cells": [
  {
   "cell_type": "code",
   "execution_count": null,
   "metadata": {},
   "outputs": [],
   "source": [
    "import os\n",
    "from skimage.io import imread, imshow\n",
    "import numpy as np\n",
    "\n",
    "run_name = 'run_06_glcm'\n",
    "TRAIN_PATH = '/home/shannon/local/Source/Python/bm_study/' + run_name + '/train/images/'\n",
    "\n",
    "png_files = [f for f in os.listdir(TRAIN_PATH) if f.endswith('.png') and not 'glcm' in f]\n",
    "\n",
    "test_file = png_files[0]\n",
    "print(test_file)\n",
    "\n",
    "test_file_diss = test_file.replace('.png', '_glcm_diss.png')\n",
    "test_file_cont = test_file.replace('.png', '_glcm_cont.png')\n",
    "test_file_homogen = test_file.replace('.png', '_glcm_homogen.png')\n",
    "\n",
    "diss_image = imread(os.path.join(TRAIN_PATH, test_file_diss), as_gray=True)\n",
    "cont_image = imread(os.path.join(TRAIN_PATH, test_file_cont), as_gray=True)\n",
    "homogen_image = imread(os.path.join(TRAIN_PATH, test_file_homogen), as_gray=True)\n",
    "\n",
    "# Combine diss_image, cont_image, and homogen_image into one RGB image\n",
    "rgb_image = np.dstack((diss_image, cont_image, homogen_image))\n",
    "\n",
    "# Display the RGB image\n",
    "imshow(rgb_image)"
   ]
  },
  {
   "cell_type": "code",
   "execution_count": 9,
   "metadata": {},
   "outputs": [
    {
     "name": "stdout",
     "output_type": "stream",
     "text": [
      "(512, 512)\n",
      "(512, 512)\n",
      "(512, 512)\n",
      "(512, 512, 3)\n"
     ]
    }
   ],
   "source": [
    "print(diss_image.shape)\n",
    "print(cont_image.shape)\n",
    "print(homogen_image.shape)\n",
    "print(rgb_image.shape)\n"
   ]
  }
 ],
 "metadata": {
  "kernelspec": {
   "display_name": "venv",
   "language": "python",
   "name": "python3"
  },
  "language_info": {
   "codemirror_mode": {
    "name": "ipython",
    "version": 3
   },
   "file_extension": ".py",
   "mimetype": "text/x-python",
   "name": "python",
   "nbconvert_exporter": "python",
   "pygments_lexer": "ipython3",
   "version": "3.10.12"
  }
 },
 "nbformat": 4,
 "nbformat_minor": 2
}
